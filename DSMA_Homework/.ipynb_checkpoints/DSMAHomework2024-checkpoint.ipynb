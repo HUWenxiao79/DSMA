{
 "cells": [
  {
   "cell_type": "markdown",
   "metadata": {
    "id": "FMCnxs-KYIHx"
   },
   "source": [
    "# Data and Social Media Analysis Homework Assignments\n",
    "In this notebook you can find the weekly assignments / homework for the Data and Social Media Analysis course.\n",
    "\n",
    "The assignments in this notebook will be updated constantly so make sure to check!\n",
    "\n",
    "I also recommend that you read through all the questions before you start solving them as sometimes you might be able to more efficiently do more than one question at the same time instead of multiple solutions."
   ]
  },
  {
   "cell_type": "code",
   "execution_count": 1,
   "metadata": {},
   "outputs": [],
   "source": [
    "import pandas as pd"
   ]
  },
  {
   "cell_type": "markdown",
   "metadata": {
    "id": "VvKwEi4-ZaTq"
   },
   "source": [
    "# Week 2\n",
    "\n",
    "*Question 10. is extra for bonus points. If you find questions 1-9 really easy, I recommend you do question 10 as well.*\n",
    "\n",
    "\n",
    "1. Create two lists of integers.\n",
    "5. Make these two lists into two separate series.\n",
    "6. Merge these series into one dataframe.\n",
    "7. **What is the axis number in your solution for 3.?**\n",
    "1.   Read in the Trump Twitter insults csv file that you can find on Moodle under week 3. Read it in as a pandas dataframe. Use .head(), .shape() etc. to look at the file.\n",
    "2.   Take a look at the documentation for set_index and set the first column as the new index. (Awesome if you can make this \"pretty\", but it's OK if you can't.)\n",
    "3. **What is the new number of the first index?**\n",
    "4. Access the cell in the 1274th row in the \"insult\" column.\n",
    "5. **What is the value of the cell in 8.?**\n",
    "10. Use range with a for loop to iterate through integers up to and including 100 starting from and including 1. Use conditionals (if statements) to create a new list from this information of the integers that are divisible by 4. Use loc to access the rows with the indexes in the list you just created and save it as a new dataframe.\n",
    "\n",
    "\n",
    "\n"
   ]
  },
  {
   "cell_type": "code",
   "execution_count": 2,
   "metadata": {},
   "outputs": [],
   "source": [
    "# Question 1:\n",
    "list1 = [102,15,129]\n",
    "list2 = [21,388,20]"
   ]
  },
  {
   "cell_type": "code",
   "execution_count": 3,
   "metadata": {
    "collapsed": true
   },
   "outputs": [
    {
     "name": "stdout",
     "output_type": "stream",
     "text": [
      "Series1:\n",
      "first     102\n",
      "second     15\n",
      "third     129\n",
      "dtype: int64\n",
      "Series2:\n",
      "first      21\n",
      "second    388\n",
      "third      20\n",
      "dtype: int64\n"
     ]
    }
   ],
   "source": [
    "# Question 2:\n",
    "series1 = pd.Series(list1,index = [\"first\",\"second\",\"third\"])\n",
    "series2 = pd.Series(list2,index = [\"first\",\"second\",\"third\"])\n",
    "print(f'Series1:\\n{series1}\\nSeries2:\\n{series2}')"
   ]
  },
  {
   "cell_type": "code",
   "execution_count": 4,
   "metadata": {
    "collapsed": true
   },
   "outputs": [
    {
     "name": "stdout",
     "output_type": "stream",
     "text": [
      "          0    1\n",
      "first   102   21\n",
      "second   15  388\n",
      "third   129   20\n"
     ]
    }
   ],
   "source": [
    "# Question 3:\n",
    "df1 = pd.concat([series1,series2], axis=1)\n",
    "print(df1)"
   ]
  },
  {
   "cell_type": "code",
   "execution_count": 5,
   "metadata": {},
   "outputs": [],
   "source": [
    "#Question 4: 1"
   ]
  },
  {
   "cell_type": "code",
   "execution_count": 6,
   "metadata": {},
   "outputs": [],
   "source": [
    "#Question 5: \n",
    "df2 = pd.read_csv('trump_insult_tweets_2014_to_2021.csv')"
   ]
  },
  {
   "cell_type": "code",
   "execution_count": 7,
   "metadata": {
    "collapsed": true
   },
   "outputs": [
    {
     "data": {
      "text/html": [
       "<div>\n",
       "<style scoped>\n",
       "    .dataframe tbody tr th:only-of-type {\n",
       "        vertical-align: middle;\n",
       "    }\n",
       "\n",
       "    .dataframe tbody tr th {\n",
       "        vertical-align: top;\n",
       "    }\n",
       "\n",
       "    .dataframe thead th {\n",
       "        text-align: right;\n",
       "    }\n",
       "</style>\n",
       "<table border=\"1\" class=\"dataframe\">\n",
       "  <thead>\n",
       "    <tr style=\"text-align: right;\">\n",
       "      <th></th>\n",
       "      <th>Unnamed: 0</th>\n",
       "      <th>date</th>\n",
       "      <th>target</th>\n",
       "      <th>insult</th>\n",
       "      <th>tweet</th>\n",
       "    </tr>\n",
       "  </thead>\n",
       "  <tbody>\n",
       "    <tr>\n",
       "      <th>0</th>\n",
       "      <td>1</td>\n",
       "      <td>2014-10-09</td>\n",
       "      <td>thomas-frieden</td>\n",
       "      <td>fool</td>\n",
       "      <td>Can you believe this fool, Dr. Thomas Frieden ...</td>\n",
       "    </tr>\n",
       "    <tr>\n",
       "      <th>1</th>\n",
       "      <td>2</td>\n",
       "      <td>2014-10-09</td>\n",
       "      <td>thomas-frieden</td>\n",
       "      <td>DOPE</td>\n",
       "      <td>Can you believe this fool, Dr. Thomas Frieden ...</td>\n",
       "    </tr>\n",
       "    <tr>\n",
       "      <th>2</th>\n",
       "      <td>3</td>\n",
       "      <td>2015-06-16</td>\n",
       "      <td>politicians</td>\n",
       "      <td>all talk and no action</td>\n",
       "      <td>Big time in U.S. today - MAKE AMERICA GREAT AG...</td>\n",
       "    </tr>\n",
       "    <tr>\n",
       "      <th>3</th>\n",
       "      <td>4</td>\n",
       "      <td>2015-06-24</td>\n",
       "      <td>ben-cardin</td>\n",
       "      <td>It's politicians like Cardin that have destroy...</td>\n",
       "      <td>Politician @SenatorCardin didn't like that I s...</td>\n",
       "    </tr>\n",
       "    <tr>\n",
       "      <th>4</th>\n",
       "      <td>5</td>\n",
       "      <td>2015-06-24</td>\n",
       "      <td>neil-young</td>\n",
       "      <td>total hypocrite</td>\n",
       "      <td>For the nonbeliever, here is a photo of @Neily...</td>\n",
       "    </tr>\n",
       "  </tbody>\n",
       "</table>\n",
       "</div>"
      ],
      "text/plain": [
       "   Unnamed: 0        date          target  \\\n",
       "0           1  2014-10-09  thomas-frieden   \n",
       "1           2  2014-10-09  thomas-frieden   \n",
       "2           3  2015-06-16     politicians   \n",
       "3           4  2015-06-24      ben-cardin   \n",
       "4           5  2015-06-24      neil-young   \n",
       "\n",
       "                                              insult  \\\n",
       "0                                               fool   \n",
       "1                                               DOPE   \n",
       "2                             all talk and no action   \n",
       "3  It's politicians like Cardin that have destroy...   \n",
       "4                                    total hypocrite   \n",
       "\n",
       "                                               tweet  \n",
       "0  Can you believe this fool, Dr. Thomas Frieden ...  \n",
       "1  Can you believe this fool, Dr. Thomas Frieden ...  \n",
       "2  Big time in U.S. today - MAKE AMERICA GREAT AG...  \n",
       "3  Politician @SenatorCardin didn't like that I s...  \n",
       "4  For the nonbeliever, here is a photo of @Neily...  "
      ]
     },
     "execution_count": 7,
     "metadata": {},
     "output_type": "execute_result"
    }
   ],
   "source": [
    "df2.head()"
   ]
  },
  {
   "cell_type": "code",
   "execution_count": 8,
   "metadata": {},
   "outputs": [
    {
     "data": {
      "text/plain": [
       "(10360, 5)"
      ]
     },
     "execution_count": 8,
     "metadata": {},
     "output_type": "execute_result"
    }
   ],
   "source": [
    "df2.shape"
   ]
  },
  {
   "cell_type": "code",
   "execution_count": 9,
   "metadata": {
    "collapsed": true
   },
   "outputs": [
    {
     "name": "stdout",
     "output_type": "stream",
     "text": [
      "<class 'pandas.core.frame.DataFrame'>\n",
      "RangeIndex: 10360 entries, 0 to 10359\n",
      "Data columns (total 5 columns):\n",
      " #   Column      Non-Null Count  Dtype \n",
      "---  ------      --------------  ----- \n",
      " 0   Unnamed: 0  10360 non-null  int64 \n",
      " 1   date        10360 non-null  object\n",
      " 2   target      10358 non-null  object\n",
      " 3   insult      10360 non-null  object\n",
      " 4   tweet       10360 non-null  object\n",
      "dtypes: int64(1), object(4)\n",
      "memory usage: 404.8+ KB\n"
     ]
    }
   ],
   "source": [
    "df2.info()"
   ]
  },
  {
   "cell_type": "code",
   "execution_count": 10,
   "metadata": {
    "collapsed": true
   },
   "outputs": [
    {
     "data": {
      "text/html": [
       "<div>\n",
       "<style scoped>\n",
       "    .dataframe tbody tr th:only-of-type {\n",
       "        vertical-align: middle;\n",
       "    }\n",
       "\n",
       "    .dataframe tbody tr th {\n",
       "        vertical-align: top;\n",
       "    }\n",
       "\n",
       "    .dataframe thead th {\n",
       "        text-align: right;\n",
       "    }\n",
       "</style>\n",
       "<table border=\"1\" class=\"dataframe\">\n",
       "  <thead>\n",
       "    <tr style=\"text-align: right;\">\n",
       "      <th></th>\n",
       "      <th>date</th>\n",
       "      <th>target</th>\n",
       "      <th>insult</th>\n",
       "      <th>tweet</th>\n",
       "    </tr>\n",
       "    <tr>\n",
       "      <th>Unnamed: 0</th>\n",
       "      <th></th>\n",
       "      <th></th>\n",
       "      <th></th>\n",
       "      <th></th>\n",
       "    </tr>\n",
       "  </thead>\n",
       "  <tbody>\n",
       "    <tr>\n",
       "      <th>1</th>\n",
       "      <td>2014-10-09</td>\n",
       "      <td>thomas-frieden</td>\n",
       "      <td>fool</td>\n",
       "      <td>Can you believe this fool, Dr. Thomas Frieden ...</td>\n",
       "    </tr>\n",
       "    <tr>\n",
       "      <th>2</th>\n",
       "      <td>2014-10-09</td>\n",
       "      <td>thomas-frieden</td>\n",
       "      <td>DOPE</td>\n",
       "      <td>Can you believe this fool, Dr. Thomas Frieden ...</td>\n",
       "    </tr>\n",
       "  </tbody>\n",
       "</table>\n",
       "</div>"
      ],
      "text/plain": [
       "                  date          target insult  \\\n",
       "Unnamed: 0                                      \n",
       "1           2014-10-09  thomas-frieden   fool   \n",
       "2           2014-10-09  thomas-frieden   DOPE   \n",
       "\n",
       "                                                        tweet  \n",
       "Unnamed: 0                                                     \n",
       "1           Can you believe this fool, Dr. Thomas Frieden ...  \n",
       "2           Can you believe this fool, Dr. Thomas Frieden ...  "
      ]
     },
     "execution_count": 10,
     "metadata": {},
     "output_type": "execute_result"
    }
   ],
   "source": [
    "#Question 6:\n",
    "df3 = df2.set_index(df2.columns[0])\n",
    "df3.head(2)"
   ]
  },
  {
   "cell_type": "code",
   "execution_count": 11,
   "metadata": {},
   "outputs": [],
   "source": [
    "#Question 7: 1"
   ]
  },
  {
   "cell_type": "code",
   "execution_count": 12,
   "metadata": {},
   "outputs": [],
   "source": [
    "#Question 8:\n",
    "loc1= df3.iloc[1273]\n",
    "#use loc\n",
    "loc2= df3.loc[1274]"
   ]
  },
  {
   "cell_type": "code",
   "execution_count": 13,
   "metadata": {
    "collapsed": true
   },
   "outputs": [
    {
     "name": "stdout",
     "output_type": "stream",
     "text": [
      "USE ILOC:\n",
      "date                                             2016-05-01\n",
      "target                                            karl-rove\n",
      "insult                                   a failed Jeb Bushy\n",
      "tweet     .@KarlRove is a failed Jeb Bushy. Never says a...\n",
      "Name: 1274, dtype: object\n",
      "USE LOC:\n",
      "date                                             2016-05-01\n",
      "target                                            karl-rove\n",
      "insult                                   a failed Jeb Bushy\n",
      "tweet     .@KarlRove is a failed Jeb Bushy. Never says a...\n",
      "Name: 1274, dtype: object\n"
     ]
    }
   ],
   "source": [
    "#Question 9:\n",
    "print(f'USE ILOC:\\n{loc1}\\nUSE LOC:\\n{loc2}')"
   ]
  },
  {
   "cell_type": "code",
   "execution_count": 14,
   "metadata": {
    "collapsed": true
   },
   "outputs": [
    {
     "data": {
      "text/html": [
       "<div>\n",
       "<style scoped>\n",
       "    .dataframe tbody tr th:only-of-type {\n",
       "        vertical-align: middle;\n",
       "    }\n",
       "\n",
       "    .dataframe tbody tr th {\n",
       "        vertical-align: top;\n",
       "    }\n",
       "\n",
       "    .dataframe thead th {\n",
       "        text-align: right;\n",
       "    }\n",
       "</style>\n",
       "<table border=\"1\" class=\"dataframe\">\n",
       "  <thead>\n",
       "    <tr style=\"text-align: right;\">\n",
       "      <th></th>\n",
       "      <th>date</th>\n",
       "      <th>target</th>\n",
       "      <th>insult</th>\n",
       "      <th>tweet</th>\n",
       "    </tr>\n",
       "    <tr>\n",
       "      <th>Unnamed: 0</th>\n",
       "      <th></th>\n",
       "      <th></th>\n",
       "      <th></th>\n",
       "      <th></th>\n",
       "    </tr>\n",
       "  </thead>\n",
       "  <tbody>\n",
       "    <tr>\n",
       "      <th>4</th>\n",
       "      <td>2015-06-24</td>\n",
       "      <td>ben-cardin</td>\n",
       "      <td>It's politicians like Cardin that have destroy...</td>\n",
       "      <td>Politician @SenatorCardin didn't like that I s...</td>\n",
       "    </tr>\n",
       "    <tr>\n",
       "      <th>8</th>\n",
       "      <td>2015-06-25</td>\n",
       "      <td>jeb-bush</td>\n",
       "      <td>will NEVER Make America Great Again</td>\n",
       "      <td>Just out, the new nationwide @FoxNews poll has...</td>\n",
       "    </tr>\n",
       "    <tr>\n",
       "      <th>12</th>\n",
       "      <td>2015-06-25</td>\n",
       "      <td>the-view</td>\n",
       "      <td>put it to sleep</td>\n",
       "      <td>The ratings for The View are really low. Nicol...</td>\n",
       "    </tr>\n",
       "    <tr>\n",
       "      <th>16</th>\n",
       "      <td>2015-06-25</td>\n",
       "      <td>lawrence-o-donnell</td>\n",
       "      <td>one of the dumber people on television</td>\n",
       "      <td>I hear that dopey political pundit, Lawrence O...</td>\n",
       "    </tr>\n",
       "    <tr>\n",
       "      <th>20</th>\n",
       "      <td>2015-06-26</td>\n",
       "      <td>john-roberts</td>\n",
       "      <td>my judicial appointments will do the right thi...</td>\n",
       "      <td>If I win the presidency, my judicial appointme...</td>\n",
       "    </tr>\n",
       "    <tr>\n",
       "      <th>24</th>\n",
       "      <td>2015-06-29</td>\n",
       "      <td>saudi-arabia</td>\n",
       "      <td>without us, gone!</td>\n",
       "      <td>Saudi Arabia should be paying the United State...</td>\n",
       "    </tr>\n",
       "    <tr>\n",
       "      <th>28</th>\n",
       "      <td>2015-07-01</td>\n",
       "      <td>george-pataki</td>\n",
       "      <td>terrible governor of NY, one of the worst</td>\n",
       "      <td>.@GovernorPataki was a terrible governor of NY...</td>\n",
       "    </tr>\n",
       "    <tr>\n",
       "      <th>32</th>\n",
       "      <td>2015-07-02</td>\n",
       "      <td>macys</td>\n",
       "      <td>Macy's stock just dropped</td>\n",
       "      <td>.@Macys stock just dropped. Interesting. So ma...</td>\n",
       "    </tr>\n",
       "    <tr>\n",
       "      <th>36</th>\n",
       "      <td>2015-07-03</td>\n",
       "      <td>southern-border</td>\n",
       "      <td>totally out of control</td>\n",
       "      <td>Our Southern border is totally out of control....</td>\n",
       "    </tr>\n",
       "    <tr>\n",
       "      <th>40</th>\n",
       "      <td>2015-07-05</td>\n",
       "      <td>rick-perry</td>\n",
       "      <td>failed at the border</td>\n",
       "      <td>Rick Perry failed at the border. Now he is cri...</td>\n",
       "    </tr>\n",
       "    <tr>\n",
       "      <th>44</th>\n",
       "      <td>2015-07-07</td>\n",
       "      <td>macys</td>\n",
       "      <td>Wow! I hear that thousands of people are cutti...</td>\n",
       "      <td>Wow! I hear that thousands of people are cutti...</td>\n",
       "    </tr>\n",
       "    <tr>\n",
       "      <th>48</th>\n",
       "      <td>2015-07-09</td>\n",
       "      <td>george-w-bush</td>\n",
       "      <td>wants $120,000 to make a boring speech</td>\n",
       "      <td>You mean George Bush sends our soldiers into c...</td>\n",
       "    </tr>\n",
       "    <tr>\n",
       "      <th>52</th>\n",
       "      <td>2015-07-09</td>\n",
       "      <td>forbes</td>\n",
       "      <td>failing</td>\n",
       "      <td>Dummy @Clare_OC from failing @Forbes magazine:...</td>\n",
       "    </tr>\n",
       "    <tr>\n",
       "      <th>56</th>\n",
       "      <td>2015-07-09</td>\n",
       "      <td>barack-obama</td>\n",
       "      <td>hollowing out our military</td>\n",
       "      <td>Obama and Republicans are hollowing out our mi...</td>\n",
       "    </tr>\n",
       "    <tr>\n",
       "      <th>60</th>\n",
       "      <td>2015-07-11</td>\n",
       "      <td>macys</td>\n",
       "      <td>no guts no glory</td>\n",
       "      <td>I love that thousands of people are boycotting...</td>\n",
       "    </tr>\n",
       "    <tr>\n",
       "      <th>64</th>\n",
       "      <td>2015-07-12</td>\n",
       "      <td>mexico</td>\n",
       "      <td>unbelievable corruption</td>\n",
       "      <td>Mexico's biggest drug lord escapes from jail. ...</td>\n",
       "    </tr>\n",
       "    <tr>\n",
       "      <th>68</th>\n",
       "      <td>2015-07-13</td>\n",
       "      <td>chuck-todd</td>\n",
       "      <td>sleepy eyes</td>\n",
       "      <td>I hear that sleepy eyes @chucktodd will be fir...</td>\n",
       "    </tr>\n",
       "    <tr>\n",
       "      <th>72</th>\n",
       "      <td>2015-07-13</td>\n",
       "      <td>mexico</td>\n",
       "      <td>totally corrupt gov't</td>\n",
       "      <td>Mexico’s totally corrupt gov’t looks horrible ...</td>\n",
       "    </tr>\n",
       "    <tr>\n",
       "      <th>76</th>\n",
       "      <td>2015-07-15</td>\n",
       "      <td>karl-rove</td>\n",
       "      <td>has no credibility</td>\n",
       "      <td>.@FoxNews should not put @KarlRove on—he has n...</td>\n",
       "    </tr>\n",
       "    <tr>\n",
       "      <th>80</th>\n",
       "      <td>2015-07-16</td>\n",
       "      <td>karl-rove</td>\n",
       "      <td>made fool of himself in '12</td>\n",
       "      <td>Irrelevant clown @KarlRove sweats and shakes n...</td>\n",
       "    </tr>\n",
       "    <tr>\n",
       "      <th>84</th>\n",
       "      <td>2015-07-16</td>\n",
       "      <td>penn-jillette</td>\n",
       "      <td>wrote letter to me begging for forgiveness</td>\n",
       "      <td>I loved firing goofball atheist Penn @pennjill...</td>\n",
       "    </tr>\n",
       "    <tr>\n",
       "      <th>88</th>\n",
       "      <td>2015-07-16</td>\n",
       "      <td>karl-rove</td>\n",
       "      <td>didn't win one race</td>\n",
       "      <td>.@KarlRove wasted $400 million + and didn’t wi...</td>\n",
       "    </tr>\n",
       "    <tr>\n",
       "      <th>92</th>\n",
       "      <td>2015-07-16</td>\n",
       "      <td>lawrence-o-donnell</td>\n",
       "      <td>dopey</td>\n",
       "      <td>Dopey @Lawrence O’Donnell, whose unwatchable s...</td>\n",
       "    </tr>\n",
       "    <tr>\n",
       "      <th>96</th>\n",
       "      <td>2015-07-16</td>\n",
       "      <td>iran-deal</td>\n",
       "      <td>poses a direct national security threat</td>\n",
       "      <td>The Iran deal poses a direct national security...</td>\n",
       "    </tr>\n",
       "    <tr>\n",
       "      <th>100</th>\n",
       "      <td>2015-07-16</td>\n",
       "      <td>rick-perry</td>\n",
       "      <td>doesn't understand what the word demagoguery m...</td>\n",
       "      <td>.@GovernorPerry just gave a pollster quote on ...</td>\n",
       "    </tr>\n",
       "  </tbody>\n",
       "</table>\n",
       "</div>"
      ],
      "text/plain": [
       "                  date              target  \\\n",
       "Unnamed: 0                                   \n",
       "4           2015-06-24          ben-cardin   \n",
       "8           2015-06-25            jeb-bush   \n",
       "12          2015-06-25            the-view   \n",
       "16          2015-06-25  lawrence-o-donnell   \n",
       "20          2015-06-26        john-roberts   \n",
       "24          2015-06-29        saudi-arabia   \n",
       "28          2015-07-01       george-pataki   \n",
       "32          2015-07-02               macys   \n",
       "36          2015-07-03     southern-border   \n",
       "40          2015-07-05          rick-perry   \n",
       "44          2015-07-07               macys   \n",
       "48          2015-07-09       george-w-bush   \n",
       "52          2015-07-09              forbes   \n",
       "56          2015-07-09        barack-obama   \n",
       "60          2015-07-11               macys   \n",
       "64          2015-07-12              mexico   \n",
       "68          2015-07-13          chuck-todd   \n",
       "72          2015-07-13              mexico   \n",
       "76          2015-07-15           karl-rove   \n",
       "80          2015-07-16           karl-rove   \n",
       "84          2015-07-16       penn-jillette   \n",
       "88          2015-07-16           karl-rove   \n",
       "92          2015-07-16  lawrence-o-donnell   \n",
       "96          2015-07-16           iran-deal   \n",
       "100         2015-07-16          rick-perry   \n",
       "\n",
       "                                                       insult  \\\n",
       "Unnamed: 0                                                      \n",
       "4           It's politicians like Cardin that have destroy...   \n",
       "8                         will NEVER Make America Great Again   \n",
       "12                                            put it to sleep   \n",
       "16                     one of the dumber people on television   \n",
       "20          my judicial appointments will do the right thi...   \n",
       "24                                          without us, gone!   \n",
       "28                  terrible governor of NY, one of the worst   \n",
       "32                                  Macy's stock just dropped   \n",
       "36                                     totally out of control   \n",
       "40                                       failed at the border   \n",
       "44          Wow! I hear that thousands of people are cutti...   \n",
       "48                     wants $120,000 to make a boring speech   \n",
       "52                                                    failing   \n",
       "56                                 hollowing out our military   \n",
       "60                                           no guts no glory   \n",
       "64                                    unbelievable corruption   \n",
       "68                                                sleepy eyes   \n",
       "72                                      totally corrupt gov't   \n",
       "76                                         has no credibility   \n",
       "80                                made fool of himself in '12   \n",
       "84                 wrote letter to me begging for forgiveness   \n",
       "88                                        didn't win one race   \n",
       "92                                                      dopey   \n",
       "96                    poses a direct national security threat   \n",
       "100         doesn't understand what the word demagoguery m...   \n",
       "\n",
       "                                                        tweet  \n",
       "Unnamed: 0                                                     \n",
       "4           Politician @SenatorCardin didn't like that I s...  \n",
       "8           Just out, the new nationwide @FoxNews poll has...  \n",
       "12          The ratings for The View are really low. Nicol...  \n",
       "16          I hear that dopey political pundit, Lawrence O...  \n",
       "20          If I win the presidency, my judicial appointme...  \n",
       "24          Saudi Arabia should be paying the United State...  \n",
       "28          .@GovernorPataki was a terrible governor of NY...  \n",
       "32          .@Macys stock just dropped. Interesting. So ma...  \n",
       "36          Our Southern border is totally out of control....  \n",
       "40          Rick Perry failed at the border. Now he is cri...  \n",
       "44          Wow! I hear that thousands of people are cutti...  \n",
       "48          You mean George Bush sends our soldiers into c...  \n",
       "52          Dummy @Clare_OC from failing @Forbes magazine:...  \n",
       "56          Obama and Republicans are hollowing out our mi...  \n",
       "60          I love that thousands of people are boycotting...  \n",
       "64          Mexico's biggest drug lord escapes from jail. ...  \n",
       "68          I hear that sleepy eyes @chucktodd will be fir...  \n",
       "72          Mexico’s totally corrupt gov’t looks horrible ...  \n",
       "76          .@FoxNews should not put @KarlRove on—he has n...  \n",
       "80          Irrelevant clown @KarlRove sweats and shakes n...  \n",
       "84          I loved firing goofball atheist Penn @pennjill...  \n",
       "88          .@KarlRove wasted $400 million + and didn’t wi...  \n",
       "92          Dopey @Lawrence O’Donnell, whose unwatchable s...  \n",
       "96          The Iran deal poses a direct national security...  \n",
       "100         .@GovernorPerry just gave a pollster quote on ...  "
      ]
     },
     "execution_count": 14,
     "metadata": {},
     "output_type": "execute_result"
    }
   ],
   "source": [
    "#Question 10:\n",
    "list=[]\n",
    "for i in range (1,101):\n",
    "    if i % 4 == 0:\n",
    "        list.append(i)\n",
    "df4 = df3.loc[list]\n",
    "df4"
   ]
  },
  {
   "cell_type": "markdown",
   "metadata": {
    "id": "bE-kmjKYeEhj"
   },
   "source": [
    "# week 3\n",
    "\n",
    "1. How many dimesions are there in the numpy array\n",
    "\n",
    "\n",
    "```\n",
    "np.array([[[[1,2,3,4],[5,6,7,8],[9,10,11,12],[13,14,15,16]]]])\n",
    "```\n",
    "2.  Read in the same Trump insults file as last week. Similarly to last week set the first column as index. Can this be done at the same time you read the file in? Check the documentation.　If possible, do so.\n",
    "3. Access the 3456th row in the target column using both loc and iloc. How does the syntax change?\n",
    "4. Now this gets a bit more difficult. Save the Boolean value of the check if the data is after January 1, 2016 in a new column. This should result in a dataframe identical to the old one, but with an extra column with the value True if the date is after 2016 and False if it is before 2016.\n",
    "5. Similar to above, create one more new column that has the values True/False depending on whether the date is after 2014 AND the insult is \"Dumb\".\n",
    "6. How many instances of Trump calling someone \"dumb\" are there in the data regardless of date?\n",
    "7. **Extra:** How many different insults does Trump use in this data?\n",
    "8. **Extra:** How many different entities (people, organizations, etc) does he insult?\n",
    "9. **Extra:** Who does he insult the most?\n"
   ]
  },
  {
   "cell_type": "code",
   "execution_count": null,
   "metadata": {
    "id": "BB5mSWQexlSo"
   },
   "outputs": [],
   "source": []
  },
  {
   "cell_type": "markdown",
   "metadata": {
    "id": "Wu9f2xZDyL5B"
   },
   "source": [
    "# week 4\n",
    "\n",
    "\n",
    "1.   Read in the student exam performance csv file and set the first column as index\n",
    "2.   Use groupby to sort the data to show the mean (average) math score for each level of parental education.\n",
    "3. **Which level has the highest vs. lowest scores?**\n",
    "4. Does the educational background of the parents have the same influence on reading and writing scores?\n",
    "5. Adjust the race values for parental education. That is, sort by parental education and then race,\n",
    "6.　and then get the aggregate values (len, min, max, mean, and standard devation)\n",
    "7. **Extra**: Check for statistical significance of gender on reading scores.\n",
    "8. **Extra**: Check for statistical significance of parents' college degree (BA or MA) on math scores.  (Hint: you can use *from scipy.stats import ttest_ind* for t-tests) And remember, this is a programming not a statistics assignment so you will be scored on the solution not the absolute correctness of your statistical analysis.\n",
    "\n"
   ]
  },
  {
   "cell_type": "code",
   "execution_count": null,
   "metadata": {
    "id": "ChXtatXOxnO-"
   },
   "outputs": [],
   "source": []
  },
  {
   "cell_type": "markdown",
   "metadata": {
    "id": "6Lg-QPpqe128"
   },
   "source": [
    "# Week 5\n",
    "Use the same file as last week.\n",
    "\n",
    "\n",
    "1.   Import seaborn and matplotlib in addition to pandas and numpy.\n",
    "2.   Use the binary data from last week with the parents' level of education to check for a correlation with math, reading, and writing scores. Your correlation matrix should be a 4x4 matrix.\n",
    "4. Pick a color scheme that you like and that we haven't used in class yet.\n",
    "5. Create a scatterplot that shows the parents' level of education on the y axis and the math score on the x axis.\n",
    "6. Why does this scatterplot not work as well as it might? Can you think of a better visualization to present this data?\n",
    "7. Create dummy scores for the lunch data and check for a correlation with reading scores.\n",
    "\n"
   ]
  },
  {
   "cell_type": "code",
   "execution_count": null,
   "metadata": {
    "id": "lYCeA9R7xokU"
   },
   "outputs": [],
   "source": []
  },
  {
   "cell_type": "markdown",
   "metadata": {
    "id": "bZGC69In8Ub_"
   },
   "source": [
    "# Week 6 Exploratory data analysis\n",
    "\n",
    "No homework. But small midterm next week."
   ]
  },
  {
   "cell_type": "markdown",
   "metadata": {
    "id": "hFavV4AlrxTd"
   },
   "source": [
    "# Week 7 Scraping\n",
    "\n",
    "\n",
    "\n",
    "1.   Read in the json file on Moodle\n",
    "2.   Flatten the json file until there's nothing to flatten anymore (keep all the data in the same dataframe)\n",
    "3. How many times did you flatten it?\n",
    "3. Choose a video on youtube and scrape the comments from that video\n",
    "4. What file format is the data?\n",
    "6. **BONUS: Tokenize the comments.**\n",
    "7. **How many tokens are there? bold text**\n",
    "\n"
   ]
  },
  {
   "cell_type": "markdown",
   "metadata": {
    "id": "ycF3yxCX8cn4"
   },
   "source": [
    "# Week 8\n",
    "No homework because of NLP4DH conference"
   ]
  },
  {
   "cell_type": "markdown",
   "metadata": {
    "id": "cL0HsjsvrEY2"
   },
   "source": [
    "\n",
    "# Week 9\n",
    "1. Use urllib to download any book from Project Gutenberg (or any text from anywhere on the web)\n",
    "2. tokenize the text using nltk\n",
    "3. tokenize the text using spacy\n",
    "4. lemmatize the text using spacy\n",
    "5. create a dataframe with one row per token and a column for token, lemma, pos, tag, whether alphabetic, and whether stopword\n",
    "6. download two more books/texts where one of the books/texts is by the same author as the original, and the other one by a different author\n",
    "7. use spacy document similarity measures to check which one of the new texts is more similar to the original text\n",
    "8. **Bonus**: as you can see, the similarities seem to be too high. Can you find/think of why this might be? ([hint](https://spacy.io/usage/spacy-101#vectors-similarity))\n",
    "9. **Super bonus**: Use one of [these](https://towardsdatascience.com/calculating-document-similarities-using-bert-and-other-models-b2c1a29c9630) (tfidf, sense2vec, word2vec, glove, BERT, sentence transformers or something similar) methods to recalculate the similarities. What do you get? What changes? Which method do you think is more reliable?"
   ]
  },
  {
   "cell_type": "code",
   "execution_count": null,
   "metadata": {
    "id": "YivQZT_qLqNw"
   },
   "outputs": [],
   "source": []
  },
  {
   "cell_type": "markdown",
   "metadata": {
    "id": "hMjOWnc5D2jA"
   },
   "source": [
    "#other similarity measures\n",
    "###tfidf"
   ]
  },
  {
   "cell_type": "markdown",
   "metadata": {
    "id": "aWfZ1qhqKYTF"
   },
   "source": [
    "# Week 10 Topic Modeling\n",
    "1. Download a longer book or several books by the same author from Project Gutenberg.\n",
    "3. Use BERTopic to create your topic model.\n",
    "  1. BERTopic likes sentences as input. Do not preprocess the text.\n",
    "  1. Can you improve on the model? Feel free to Google \"fine-tuning BERTopic\".\n",
    "  2. Can you create any other visualizations?\n",
    "  3. Can you get a coherence score for the BERT topic model?\n",
    "2. For LDA Do the appropriate pre-processing steps. This means:\n",
    "  1. Removal of superfluous characters (look at your data!)\n",
    "  2. Tokenization.\n",
    "  3. Stopword removal\n",
    "  4. Lemmatization.\n",
    "4. Create bigram and trigram models.\n",
    "5. Create the topic model.\n",
    "6. Calculate the coherence score of your model.\n",
    "8. What is the optimal number of topics if we go by the coherence score?\n",
    "9. Can you visualize this appropriately?\n",
    "\n",
    "\n"
   ]
  },
  {
   "cell_type": "code",
   "execution_count": null,
   "metadata": {
    "id": "2a0ouhG-8rgh"
   },
   "outputs": [],
   "source": []
  },
  {
   "cell_type": "markdown",
   "metadata": {
    "id": "LwgDdL24qixW"
   },
   "source": [
    "# Week 11 Network Analysis\n",
    "\n",
    "1. import all the relevant libraries\n",
    "2. Create a network with the characters from Snow White as the nodes:\n",
    "    Snow White, Evil Queen, King, Prince, 7 dwarfs, Huntsman\n",
    "3. Add the appropriate edges (i.e. the dwarfs only know Snow White)\n",
    "4. **Extra:** Can you think of a way of creating the edge list without having to manually type in all the connections?\n",
    "5. Let's do some real social media network analysis! Use the Twitter.edges file from Moodle. Note that you can read it in as a dataframe but you have to set the separator in this case!\n",
    "6. Create a similar network visualization from this data as you did with the snow white data.\n",
    "7. How many communities can you find?\n",
    "7. **Extra:** How would you make the visualization more appealing and clear? Maybe some community detection? Different colors?\n"
   ]
  },
  {
   "cell_type": "code",
   "execution_count": null,
   "metadata": {
    "id": "wyRLzkHvLtAJ"
   },
   "outputs": [],
   "source": []
  },
  {
   "cell_type": "markdown",
   "metadata": {
    "id": "nhiJtJFh84tr"
   },
   "source": [
    "##Extra facebook network analysis example\n",
    "\n",
    "Learn more [here](https://orbifold.net/default/community-detection-using-networkx/)"
   ]
  },
  {
   "cell_type": "code",
   "execution_count": null,
   "metadata": {
    "id": "ScgqoEoqLtsi"
   },
   "outputs": [],
   "source": []
  },
  {
   "cell_type": "markdown",
   "metadata": {
    "id": "qK9kwWvv718g"
   },
   "source": [
    "# Week 12: Lexicon-based sentiment analysis\n",
    "\n",
    "1. Choose a text and pre-process it appropriately (you should know what this means by now, if not, check out what we did in week 9, 10, and 11)\n",
    "2. Create your own version of an emotion or sentiment lexicon based on an existing one (such as the NRC emotion lexicon or the Emotion Intensity lexicon). You can choose to focus on sentiments or specific emotions or whatever you think might be interesting.\n",
    "3. Visualize the emotions in your chosen text somehow. You can use a graph:\n",
    "![images.png](data:image/png;base64,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)\n",
    "\n",
    "4. or radar chart\n",
    "\n",
    "![Joy-and-anger-radar-chart-for-all-basic-emotions-Ashville.png](data:image/png;base64,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)\n",
    "\n",
    "or something completely different.\n",
    "5. Based on your results, what can you say about your chosen text?"
   ]
  },
  {
   "cell_type": "code",
   "execution_count": null,
   "metadata": {
    "id": "sIWDC8ZKLuuA"
   },
   "outputs": [],
   "source": []
  },
  {
   "cell_type": "markdown",
   "metadata": {
    "id": "Zp0zwLFBSIZi"
   },
   "source": [
    "# Week 13 Machine Learning\n",
    "\n",
    "1. Use the provided heart failure dataset (on Moodle) and preprocess if necessary.\n",
    "2. Understand the data and what's in it (use TAD, matplotlib visualization, whatever you think will help you)\n",
    "3. Can you predict who's heart will fail and whose heart will not fail? (Use any classifier you like)\n",
    "  \n",
    "  1. Based on q2 choose the features that are important (the x in most types of models)\n",
    "  2. use the ***death event*** as the \"label\" (the y in most types of models)\n",
    "  3. split the data into training and testing (scikit learn has a built-in function for this)\n",
    "  4. Fit the data into your model\n",
    "  5. Get the predictions.\n",
    "4. What is your accuracy?\n",
    "5. Print a confusion matrix of the results.\n",
    "5. Can you get a higher accuracy by using a different classifier?\n",
    "   *  Probably. What is the best performing model?\n",
    "\n",
    "\n",
    "\n",
    "\n",
    "\n",
    "Feel free to use existing code, but make sure to include something unique and not just copy paste from elsewhere! For example, you could add a new classifier that wasn't used in the original code.\n",
    "\n",
    "Remember that any classifier you need to use is built into scikit learn.\n",
    "\n",
    "\n",
    "```\n",
    "from sklearn.model_selection import train_test_split\n",
    "from sklearn.metrics import confusion_matrix, accuracy_score\n",
    "from mlxtend.plotting import plot_confusion_matrix\n",
    "\n",
    "from sklearn.svm import SVC\n",
    "from sklearn.ensemble import GradientBoostingClassifier\n",
    "from sklearn.ensemble import RandomForestClassifier\n",
    "from sklearn.tree import DecisionTreeClassifier\n",
    "from sklearn.neighbors import KNeighborsClassifier\n",
    "from sklearn.linear_model import LogisticRegression\n",
    "```\n",
    "\n",
    "\n",
    "\n",
    "***DON'T GIVE UP!  If you are really stuck, don't hesitate to contact me. This one can be a bit tricky, but I know every single one of you is capable of finishing this week's homework. It is much easier than it seems.***\n",
    "\n",
    "For example, once you pick the x and y and split the data appropriately, you can use this code for a DecisionTree classifier:\n",
    "\n",
    "\n",
    "```\n",
    "dt_clf = DecisionTreeClassifier(max_leaf_nodes=3, random_state=0, criterion='entropy')\n",
    "dt_clf.fit(x_train, y_train)\n",
    "dt_pred = dt_clf.predict(x_test)\n",
    "dt_acc = accuracy_score(y_test, dt_pred)\n",
    "accuracy_list.append(dt_acc)\n",
    "```\n",
    "\n",
    "\n"
   ]
  },
  {
   "cell_type": "code",
   "execution_count": null,
   "metadata": {
    "id": "HqFD9XPALvW5"
   },
   "outputs": [],
   "source": []
  },
  {
   "cell_type": "markdown",
   "metadata": {
    "id": "_YPU8VgnSKh7"
   },
   "source": [
    "# Week 14 Sentiment Analysis II\n",
    "This week's homework is based on this ntoebook on Kaggle: https://www.kaggle.com/stoicstatic/twitter-sentiment-analysis-for-beginners\n",
    "\n",
    "As we are nearing the end and I hope you are focusing on your final projects, I wanted to choose something simple and straight-forward. So:\n",
    "1. Take a look at the Kaggle tutorial for Twitter Sentiment analysis.\n",
    "2. Run the notebook and try to understand as much of the code as possible (it is possible to download the notebook and run on colab or to run it directly on Kaggle).\n",
    "3. Try an additional 2-4 classifiers to see what works best. (Check out other notebooks or scikit learn's documentatino for available classifiers. OR week 15 for new ideas!)\n",
    "4. Why do you think the best performing classifier works the best in this case?"
   ]
  },
  {
   "cell_type": "code",
   "execution_count": null,
   "metadata": {},
   "outputs": [],
   "source": []
  }
 ],
 "metadata": {
  "colab": {
   "provenance": []
  },
  "kernelspec": {
   "display_name": "Python 3 (ipykernel)",
   "language": "python",
   "name": "python3"
  },
  "language_info": {
   "codemirror_mode": {
    "name": "ipython",
    "version": 3
   },
   "file_extension": ".py",
   "mimetype": "text/x-python",
   "name": "python",
   "nbconvert_exporter": "python",
   "pygments_lexer": "ipython3",
   "version": "3.9.12"
  },
  "toc": {
   "base_numbering": 1,
   "nav_menu": {},
   "number_sections": true,
   "sideBar": true,
   "skip_h1_title": false,
   "title_cell": "Table of Contents",
   "title_sidebar": "Contents",
   "toc_cell": false,
   "toc_position": {
    "height": "calc(100% - 180px)",
    "left": "10px",
    "top": "150px",
    "width": "148.8px"
   },
   "toc_section_display": true,
   "toc_window_display": false
  }
 },
 "nbformat": 4,
 "nbformat_minor": 1
}
