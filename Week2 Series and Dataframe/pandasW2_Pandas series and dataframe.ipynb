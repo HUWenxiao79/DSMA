{
 "cells": [
  {
   "cell_type": "markdown",
   "metadata": {
    "colab_type": "text",
    "id": "view-in-github"
   },
   "source": [
    "<a href=\"https://colab.research.google.com/github/HUWenxiao79/DSMA/blob/main/pandasW2.ipynb\" target=\"_parent\"><img src=\"https://colab.research.google.com/assets/colab-badge.svg\" alt=\"Open In Colab\"/></a>"
   ]
  },
  {
   "cell_type": "markdown",
   "metadata": {
    "id": "yteFFSdo1qUc"
   },
   "source": [
    "#Pandas\n",
    "## Series (Columns in EXCEL)\n"
   ]
  },
  {
   "cell_type": "markdown",
   "metadata": {},
   "source": [
    "### Creating SERIES from Lists and PRINT function"
   ]
  },
  {
   "cell_type": "code",
   "execution_count": 1,
   "metadata": {
    "id": "fB01o-So1n6h"
   },
   "outputs": [],
   "source": [
    "import pandas as pd\n",
    "\n",
    "my_list = [123,2134,123] # a list of integers\n",
    "\n",
    "#let's make this list into a pandas series\n",
    "my_series = pd.Series(my_list)"
   ]
  },
  {
   "cell_type": "code",
   "execution_count": 2,
   "metadata": {
    "id": "SUJGpEYHXxCn"
   },
   "outputs": [],
   "source": [
    "my_series2 = my_series"
   ]
  },
  {
   "cell_type": "code",
   "execution_count": 3,
   "metadata": {
    "id": "XBBKEYnMV06R"
   },
   "outputs": [
    {
     "name": "stdout",
     "output_type": "stream",
     "text": [
      "My list: [123, 2134, 123]\n",
      "My Series: \n",
      "0     123\n",
      "1    2134\n",
      "2     123\n",
      "dtype: int64\n"
     ]
    }
   ],
   "source": [
    "print(f'My list: {my_list}\\nMy Series: \\n{my_series}')"
   ]
  },
  {
   "cell_type": "code",
   "execution_count": 4,
   "metadata": {
    "id": "qslyTjBrWIIg"
   },
   "outputs": [
    {
     "name": "stdout",
     "output_type": "stream",
     "text": [
      "2134\n"
     ]
    }
   ],
   "source": [
    "#accessing individual elements\n",
    "print(my_series[1])"
   ]
  },
  {
   "cell_type": "markdown",
   "metadata": {},
   "source": [
    "### RENAME the index"
   ]
  },
  {
   "cell_type": "code",
   "execution_count": 5,
   "metadata": {
    "id": "elQ3jkP7WUQ7"
   },
   "outputs": [],
   "source": [
    "#renaming the index\n",
    "#way 1: name index while making it into series\n",
    "my_series1 = pd.Series(my_list,index = [\"first\", \"second\", \"third\"])\n",
    "\n",
    "#way 2: by rename the loaded data\n",
    "my_series2 = my_series.rename(index = {0:\"first\",1:\"second\",2:\"third\"}) \n",
    "#Q: there is also the \"inplace\" option. Remember what it does?  \n",
    "#A: \"inplace\" by default is FALSE, which means that the actual index name in the original data will not be changed.\n",
    "#    If \"inplace\" is TRUE, it actually change the indexes."
   ]
  },
  {
   "cell_type": "code",
   "execution_count": 6,
   "metadata": {
    "id": "R0ox9zsWXFBo"
   },
   "outputs": [
    {
     "name": "stdout",
     "output_type": "stream",
     "text": [
      "1:\n",
      "first      123\n",
      "second    2134\n",
      "third      123\n",
      "dtype: int64\n",
      "2: \n",
      "first      123\n",
      "second    2134\n",
      "third      123\n",
      "dtype: int64\n"
     ]
    }
   ],
   "source": [
    "print(f'1:\\n{my_series1}\\n2: \\n{my_series2}')"
   ]
  },
  {
   "cell_type": "markdown",
   "metadata": {},
   "source": [
    "### Creating SERIES and DATAFRAME from Dictionary"
   ]
  },
  {
   "cell_type": "code",
   "execution_count": 7,
   "metadata": {
    "id": "H1ZAntD6YguC"
   },
   "outputs": [],
   "source": [
    "#Creating a series from a dictionary\n",
    "dicty = {\"first\":\"lalala\",\"second\":123,\"third\":99.4}\n",
    "my_dictseries = pd.Series(dicty) #if you specify the index here, the series will only consist of the specified indexes e.g.: my_dictseries = pd.Series(dicty, index = [\"first\",\"third\"])"
   ]
  },
  {
   "cell_type": "code",
   "execution_count": 8,
   "metadata": {
    "id": "QDz2OwI-Y0Z7"
   },
   "outputs": [
    {
     "name": "stdout",
     "output_type": "stream",
     "text": [
      "Series from dict:\n",
      "first     lalala\n",
      "second       123\n",
      "third       99.4\n",
      "dtype: object\n"
     ]
    }
   ],
   "source": [
    "print(f'Series from dict:\\n{my_dictseries}')"
   ]
  },
  {
   "cell_type": "code",
   "execution_count": 9,
   "metadata": {
    "id": "0R19k0Mna0p1"
   },
   "outputs": [],
   "source": [
    "# Creating a DataFrame from a dictionary\n",
    "data = {'Name': ['Camilla', 'Pelle', 'Yu-Hsuan'],\n",
    "        'Age': [25, 22, 24]}\n",
    "df = pd.DataFrame(data)"
   ]
  },
  {
   "cell_type": "code",
   "execution_count": 10,
   "metadata": {
    "id": "LnXSrI9xa4F1"
   },
   "outputs": [
    {
     "data": {
      "text/html": [
       "<div>\n",
       "<style scoped>\n",
       "    .dataframe tbody tr th:only-of-type {\n",
       "        vertical-align: middle;\n",
       "    }\n",
       "\n",
       "    .dataframe tbody tr th {\n",
       "        vertical-align: top;\n",
       "    }\n",
       "\n",
       "    .dataframe thead th {\n",
       "        text-align: right;\n",
       "    }\n",
       "</style>\n",
       "<table border=\"1\" class=\"dataframe\">\n",
       "  <thead>\n",
       "    <tr style=\"text-align: right;\">\n",
       "      <th></th>\n",
       "      <th>Name</th>\n",
       "      <th>Age</th>\n",
       "    </tr>\n",
       "  </thead>\n",
       "  <tbody>\n",
       "    <tr>\n",
       "      <th>0</th>\n",
       "      <td>Camilla</td>\n",
       "      <td>25</td>\n",
       "    </tr>\n",
       "    <tr>\n",
       "      <th>1</th>\n",
       "      <td>Pelle</td>\n",
       "      <td>22</td>\n",
       "    </tr>\n",
       "    <tr>\n",
       "      <th>2</th>\n",
       "      <td>Yu-Hsuan</td>\n",
       "      <td>24</td>\n",
       "    </tr>\n",
       "  </tbody>\n",
       "</table>\n",
       "</div>"
      ],
      "text/plain": [
       "       Name  Age\n",
       "0   Camilla   25\n",
       "1     Pelle   22\n",
       "2  Yu-Hsuan   24"
      ]
     },
     "execution_count": 10,
     "metadata": {},
     "output_type": "execute_result"
    }
   ],
   "source": [
    "df"
   ]
  },
  {
   "cell_type": "markdown",
   "metadata": {
    "id": "_7w188dRZsbe"
   },
   "source": [
    "## Dataframes (Sheet in EXCEL)"
   ]
  },
  {
   "cell_type": "code",
   "execution_count": 11,
   "metadata": {
    "id": "-tgPDR5uZt-U"
   },
   "outputs": [],
   "source": [
    "#we can merge series to create a dataframe\n",
    "df1 = pd.concat([my_series1, my_series2,my_dictseries], axis=1)\n",
    "# axis=1, 沿列方向合并（水平合并）； axis=0, 沿行方向合并（垂直合并）\n",
    "\n",
    "#or we can create one from a dictionary (typically a dictionary of lists)\n",
    "d = {\"ex1\":[89,8,6,1,2,7,6],\"ex2\":[7,5,1,66,8,74,1]}\n",
    "df2 = pd.DataFrame(d)"
   ]
  },
  {
   "cell_type": "code",
   "execution_count": 12,
   "metadata": {
    "id": "PYN-A9rkasEV"
   },
   "outputs": [
    {
     "name": "stdout",
     "output_type": "stream",
     "text": [
      "Df1:\n",
      "           0     1       2\n",
      "first    123   123  lalala\n",
      "second  2134  2134     123\n",
      "third    123   123    99.4\n",
      "Df2:\n",
      "   ex1  ex2\n",
      "0   89    7\n",
      "1    8    5\n",
      "2    6    1\n",
      "3    1   66\n",
      "4    2    8\n",
      "5    7   74\n",
      "6    6    1\n"
     ]
    }
   ],
   "source": [
    "print(f'Df1:\\n{df1}\\nDf2:\\n{df2}')"
   ]
  },
  {
   "cell_type": "markdown",
   "metadata": {
    "id": "8IU7D-t3hB3q"
   },
   "source": [
    "## loc (locate)"
   ]
  },
  {
   "cell_type": "code",
   "execution_count": 13,
   "metadata": {
    "id": "1O3crlN0hDf8"
   },
   "outputs": [],
   "source": [
    "#access specific row using loc\n",
    "loc1=df2.iloc[3]\n",
    "\n",
    "#multiple\n",
    "loc2=df2.iloc[[3,5]]\n",
    "\n",
    "#可以loc/iloc一个list，比如想找loc为list=[2,3,5,6,7]的，就可以df2.loc[list]\n",
    "\n",
    "#loc 与 iloc的区别：\n",
    "# loc（修改后）是按行的标签（通常是索引）来查找，比如查找一个标签是2023-10-2日为索引的行，则要用loc\n",
    "# iloc（最原始）是按行的整数位置索引，比如想获取第二行，iloc[1]"
   ]
  },
  {
   "cell_type": "code",
   "execution_count": 14,
   "metadata": {},
   "outputs": [
    {
     "name": "stdout",
     "output_type": "stream",
     "text": [
      "One row:\n",
      "ex1     1\n",
      "ex2    66\n",
      "Name: 3, dtype: int64\n",
      "Multiple rows:\n",
      "   ex1  ex2\n",
      "3    1   66\n",
      "5    7   74\n"
     ]
    }
   ],
   "source": [
    "print(f'One row:\\n{loc1}\\nMultiple rows:\\n{loc2}')"
   ]
  },
  {
   "cell_type": "markdown",
   "metadata": {
    "id": "pAUVSmgzhFKH"
   },
   "source": [
    "## reading in files"
   ]
  },
  {
   "cell_type": "code",
   "execution_count": 15,
   "metadata": {
    "id": "nDFXS3RdhFV0"
   },
   "outputs": [],
   "source": [
    "#确保和python文件在一个文件夹中\n",
    "df = pd.read_csv('trump_insult_tweets_2014_to_2021.csv', index_col=0)\n",
    "# index_col=0 的意思是将column=0列的列作为index\n",
    "# 在后续也可以用 set_index 来改变"
   ]
  },
  {
   "cell_type": "code",
   "execution_count": 16,
   "metadata": {
    "id": "fc3Peojoi5Wm",
    "scrolled": true
   },
   "outputs": [
    {
     "data": {
      "text/html": [
       "<div>\n",
       "<style scoped>\n",
       "    .dataframe tbody tr th:only-of-type {\n",
       "        vertical-align: middle;\n",
       "    }\n",
       "\n",
       "    .dataframe tbody tr th {\n",
       "        vertical-align: top;\n",
       "    }\n",
       "\n",
       "    .dataframe thead th {\n",
       "        text-align: right;\n",
       "    }\n",
       "</style>\n",
       "<table border=\"1\" class=\"dataframe\">\n",
       "  <thead>\n",
       "    <tr style=\"text-align: right;\">\n",
       "      <th></th>\n",
       "      <th>date</th>\n",
       "      <th>target</th>\n",
       "      <th>insult</th>\n",
       "      <th>tweet</th>\n",
       "    </tr>\n",
       "  </thead>\n",
       "  <tbody>\n",
       "    <tr>\n",
       "      <th>1</th>\n",
       "      <td>2014-10-09</td>\n",
       "      <td>thomas-frieden</td>\n",
       "      <td>fool</td>\n",
       "      <td>Can you believe this fool, Dr. Thomas Frieden ...</td>\n",
       "    </tr>\n",
       "    <tr>\n",
       "      <th>2</th>\n",
       "      <td>2014-10-09</td>\n",
       "      <td>thomas-frieden</td>\n",
       "      <td>DOPE</td>\n",
       "      <td>Can you believe this fool, Dr. Thomas Frieden ...</td>\n",
       "    </tr>\n",
       "    <tr>\n",
       "      <th>3</th>\n",
       "      <td>2015-06-16</td>\n",
       "      <td>politicians</td>\n",
       "      <td>all talk and no action</td>\n",
       "      <td>Big time in U.S. today - MAKE AMERICA GREAT AG...</td>\n",
       "    </tr>\n",
       "    <tr>\n",
       "      <th>4</th>\n",
       "      <td>2015-06-24</td>\n",
       "      <td>ben-cardin</td>\n",
       "      <td>It's politicians like Cardin that have destroy...</td>\n",
       "      <td>Politician @SenatorCardin didn't like that I s...</td>\n",
       "    </tr>\n",
       "    <tr>\n",
       "      <th>5</th>\n",
       "      <td>2015-06-24</td>\n",
       "      <td>neil-young</td>\n",
       "      <td>total hypocrite</td>\n",
       "      <td>For the nonbeliever, here is a photo of @Neily...</td>\n",
       "    </tr>\n",
       "    <tr>\n",
       "      <th>6</th>\n",
       "      <td>2015-06-24</td>\n",
       "      <td>rockin-in-the-free-world</td>\n",
       "      <td>didn't love it</td>\n",
       "      <td>.@Neilyoung’s song, “Rockin’ In The Free World...</td>\n",
       "    </tr>\n",
       "    <tr>\n",
       "      <th>7</th>\n",
       "      <td>2015-06-25</td>\n",
       "      <td>willie-geist</td>\n",
       "      <td>uncomfortable looking</td>\n",
       "      <td>Uncomfortable looking NBC reporter Willie Geis...</td>\n",
       "    </tr>\n",
       "    <tr>\n",
       "      <th>8</th>\n",
       "      <td>2015-06-25</td>\n",
       "      <td>jeb-bush</td>\n",
       "      <td>will NEVER Make America Great Again</td>\n",
       "      <td>Just out, the new nationwide @FoxNews poll has...</td>\n",
       "    </tr>\n",
       "    <tr>\n",
       "      <th>9</th>\n",
       "      <td>2015-06-25</td>\n",
       "      <td>molly-sims</td>\n",
       "      <td>a disaster</td>\n",
       "      <td>The ratings for The View are really low. Nicol...</td>\n",
       "    </tr>\n",
       "    <tr>\n",
       "      <th>10</th>\n",
       "      <td>2015-06-25</td>\n",
       "      <td>nicole-wallace</td>\n",
       "      <td>a disaster</td>\n",
       "      <td>The ratings for The View are really low. Nicol...</td>\n",
       "    </tr>\n",
       "    <tr>\n",
       "      <th>11</th>\n",
       "      <td>2015-06-25</td>\n",
       "      <td>the-view</td>\n",
       "      <td>dead T.V.</td>\n",
       "      <td>The ratings for The View are really low. Nicol...</td>\n",
       "    </tr>\n",
       "    <tr>\n",
       "      <th>12</th>\n",
       "      <td>2015-06-25</td>\n",
       "      <td>the-view</td>\n",
       "      <td>put it to sleep</td>\n",
       "      <td>The ratings for The View are really low. Nicol...</td>\n",
       "    </tr>\n",
       "  </tbody>\n",
       "</table>\n",
       "</div>"
      ],
      "text/plain": [
       "          date                    target  \\\n",
       "1   2014-10-09            thomas-frieden   \n",
       "2   2014-10-09            thomas-frieden   \n",
       "3   2015-06-16               politicians   \n",
       "4   2015-06-24                ben-cardin   \n",
       "5   2015-06-24                neil-young   \n",
       "6   2015-06-24  rockin-in-the-free-world   \n",
       "7   2015-06-25              willie-geist   \n",
       "8   2015-06-25                  jeb-bush   \n",
       "9   2015-06-25                molly-sims   \n",
       "10  2015-06-25            nicole-wallace   \n",
       "11  2015-06-25                  the-view   \n",
       "12  2015-06-25                  the-view   \n",
       "\n",
       "                                               insult  \\\n",
       "1                                                fool   \n",
       "2                                                DOPE   \n",
       "3                              all talk and no action   \n",
       "4   It's politicians like Cardin that have destroy...   \n",
       "5                                     total hypocrite   \n",
       "6                                      didn't love it   \n",
       "7                               uncomfortable looking   \n",
       "8                 will NEVER Make America Great Again   \n",
       "9                                          a disaster   \n",
       "10                                         a disaster   \n",
       "11                                          dead T.V.   \n",
       "12                                    put it to sleep   \n",
       "\n",
       "                                                tweet  \n",
       "1   Can you believe this fool, Dr. Thomas Frieden ...  \n",
       "2   Can you believe this fool, Dr. Thomas Frieden ...  \n",
       "3   Big time in U.S. today - MAKE AMERICA GREAT AG...  \n",
       "4   Politician @SenatorCardin didn't like that I s...  \n",
       "5   For the nonbeliever, here is a photo of @Neily...  \n",
       "6   .@Neilyoung’s song, “Rockin’ In The Free World...  \n",
       "7   Uncomfortable looking NBC reporter Willie Geis...  \n",
       "8   Just out, the new nationwide @FoxNews poll has...  \n",
       "9   The ratings for The View are really low. Nicol...  \n",
       "10  The ratings for The View are really low. Nicol...  \n",
       "11  The ratings for The View are really low. Nicol...  \n",
       "12  The ratings for The View are really low. Nicol...  "
      ]
     },
     "execution_count": 16,
     "metadata": {},
     "output_type": "execute_result"
    }
   ],
   "source": [
    "df.head(12) # check what does it looks like"
   ]
  },
  {
   "cell_type": "code",
   "execution_count": 20,
   "metadata": {
    "collapsed": true
   },
   "outputs": [
    {
     "name": "stdout",
     "output_type": "stream",
     "text": [
      "iLOC:\n",
      "date                                             2014-10-09\n",
      "target                                       thomas-frieden\n",
      "insult                                                 DOPE\n",
      "tweet     Can you believe this fool, Dr. Thomas Frieden ...\n",
      "Name: 2, dtype: object\n",
      "LOC:\n",
      "date                                             2014-10-09\n",
      "target                                       thomas-frieden\n",
      "insult                                                 DOPE\n",
      "tweet     Can you believe this fool, Dr. Thomas Frieden ...\n",
      "Name: 2, dtype: object\n"
     ]
    }
   ],
   "source": [
    "loc3=df.iloc[1]\n",
    "loc4=df.loc[2]\n",
    "print(f'iLOC:\\n{loc3}\\nLOC:\\n{loc4}')"
   ]
  },
  {
   "cell_type": "code",
   "execution_count": 17,
   "metadata": {
    "id": "arnCdoQIjQY7"
   },
   "outputs": [
    {
     "data": {
      "text/html": [
       "<div>\n",
       "<style scoped>\n",
       "    .dataframe tbody tr th:only-of-type {\n",
       "        vertical-align: middle;\n",
       "    }\n",
       "\n",
       "    .dataframe tbody tr th {\n",
       "        vertical-align: top;\n",
       "    }\n",
       "\n",
       "    .dataframe thead th {\n",
       "        text-align: right;\n",
       "    }\n",
       "</style>\n",
       "<table border=\"1\" class=\"dataframe\">\n",
       "  <thead>\n",
       "    <tr style=\"text-align: right;\">\n",
       "      <th></th>\n",
       "      <th>date</th>\n",
       "      <th>target</th>\n",
       "      <th>insult</th>\n",
       "      <th>tweet</th>\n",
       "    </tr>\n",
       "  </thead>\n",
       "  <tbody>\n",
       "    <tr>\n",
       "      <th>10354</th>\n",
       "      <td>2021-01-05</td>\n",
       "      <td>democrats</td>\n",
       "      <td>emboldened Radical Left Democrats</td>\n",
       "      <td>Washington is being inundated with people who ...</td>\n",
       "    </tr>\n",
       "    <tr>\n",
       "      <th>10355</th>\n",
       "      <td>2021-01-06</td>\n",
       "      <td>mike-pence</td>\n",
       "      <td>didn’t have the courage to do what should have...</td>\n",
       "      <td>Mike Pence didn’t have the courage to do what ...</td>\n",
       "    </tr>\n",
       "    <tr>\n",
       "      <th>10356</th>\n",
       "      <td>2021-01-06</td>\n",
       "      <td>2020-election</td>\n",
       "      <td>Many States want to decertify the mistake they...</td>\n",
       "      <td>If Vice President @Mike_Pence comes through fo...</td>\n",
       "    </tr>\n",
       "    <tr>\n",
       "      <th>10357</th>\n",
       "      <td>2021-01-06</td>\n",
       "      <td>2020-election</td>\n",
       "      <td>based on irregularities and fraud, plus corrup...</td>\n",
       "      <td>States want to correct their votes, which they...</td>\n",
       "    </tr>\n",
       "    <tr>\n",
       "      <th>10358</th>\n",
       "      <td>2021-01-06</td>\n",
       "      <td>2020-election</td>\n",
       "      <td>Our Election Process is worse than that of thi...</td>\n",
       "      <td>They just happened to find 50,000 ballots late...</td>\n",
       "    </tr>\n",
       "    <tr>\n",
       "      <th>10359</th>\n",
       "      <td>2021-01-06</td>\n",
       "      <td>2020-election</td>\n",
       "      <td>a FRAUD</td>\n",
       "      <td>The States want to redo their votes. They foun...</td>\n",
       "    </tr>\n",
       "    <tr>\n",
       "      <th>10360</th>\n",
       "      <td>2021-01-06</td>\n",
       "      <td>chuck-todd</td>\n",
       "      <td>Sleepy Eyes,  Sad to watch!</td>\n",
       "      <td>Sleepy Eyes Chuck Todd is so happy with the fa...</td>\n",
       "    </tr>\n",
       "  </tbody>\n",
       "</table>\n",
       "</div>"
      ],
      "text/plain": [
       "             date         target  \\\n",
       "10354  2021-01-05      democrats   \n",
       "10355  2021-01-06     mike-pence   \n",
       "10356  2021-01-06  2020-election   \n",
       "10357  2021-01-06  2020-election   \n",
       "10358  2021-01-06  2020-election   \n",
       "10359  2021-01-06  2020-election   \n",
       "10360  2021-01-06     chuck-todd   \n",
       "\n",
       "                                                  insult  \\\n",
       "10354                  emboldened Radical Left Democrats   \n",
       "10355  didn’t have the courage to do what should have...   \n",
       "10356  Many States want to decertify the mistake they...   \n",
       "10357  based on irregularities and fraud, plus corrup...   \n",
       "10358  Our Election Process is worse than that of thi...   \n",
       "10359                                            a FRAUD   \n",
       "10360                        Sleepy Eyes,  Sad to watch!   \n",
       "\n",
       "                                                   tweet  \n",
       "10354  Washington is being inundated with people who ...  \n",
       "10355  Mike Pence didn’t have the courage to do what ...  \n",
       "10356  If Vice President @Mike_Pence comes through fo...  \n",
       "10357  States want to correct their votes, which they...  \n",
       "10358  They just happened to find 50,000 ballots late...  \n",
       "10359  The States want to redo their votes. They foun...  \n",
       "10360  Sleepy Eyes Chuck Todd is so happy with the fa...  "
      ]
     },
     "execution_count": 17,
     "metadata": {},
     "output_type": "execute_result"
    }
   ],
   "source": [
    "df.tail(7)# specify last 7 rows"
   ]
  },
  {
   "cell_type": "code",
   "execution_count": 18,
   "metadata": {
    "id": "LnaDsocYjThU"
   },
   "outputs": [
    {
     "name": "stdout",
     "output_type": "stream",
     "text": [
      "<class 'pandas.core.frame.DataFrame'>\n",
      "Int64Index: 10360 entries, 1 to 10360\n",
      "Data columns (total 4 columns):\n",
      " #   Column  Non-Null Count  Dtype \n",
      "---  ------  --------------  ----- \n",
      " 0   date    10360 non-null  object\n",
      " 1   target  10358 non-null  object\n",
      " 2   insult  10360 non-null  object\n",
      " 3   tweet   10360 non-null  object\n",
      "dtypes: object(4)\n",
      "memory usage: 404.7+ KB\n"
     ]
    }
   ],
   "source": [
    "df.info()"
   ]
  },
  {
   "cell_type": "code",
   "execution_count": 19,
   "metadata": {
    "id": "kvHziVvC814Z"
   },
   "outputs": [
    {
     "data": {
      "text/plain": [
       "(10360, 4)"
      ]
     },
     "execution_count": 19,
     "metadata": {},
     "output_type": "execute_result"
    }
   ],
   "source": [
    "df.shape #how many rows and how many columns "
   ]
  }
 ],
 "metadata": {
  "colab": {
   "include_colab_link": true,
   "private_outputs": true,
   "provenance": []
  },
  "kernelspec": {
   "display_name": "Python 3 (ipykernel)",
   "language": "python",
   "name": "python3"
  },
  "language_info": {
   "codemirror_mode": {
    "name": "ipython",
    "version": 3
   },
   "file_extension": ".py",
   "mimetype": "text/x-python",
   "name": "python",
   "nbconvert_exporter": "python",
   "pygments_lexer": "ipython3",
   "version": "3.9.12"
  },
  "toc": {
   "base_numbering": 1,
   "nav_menu": {},
   "number_sections": true,
   "sideBar": true,
   "skip_h1_title": false,
   "title_cell": "Table of Contents",
   "title_sidebar": "Contents",
   "toc_cell": false,
   "toc_position": {},
   "toc_section_display": true,
   "toc_window_display": false
  }
 },
 "nbformat": 4,
 "nbformat_minor": 1
}
