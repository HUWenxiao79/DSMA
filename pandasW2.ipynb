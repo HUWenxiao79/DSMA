{
  "nbformat": 4,
  "nbformat_minor": 0,
  "metadata": {
    "colab": {
      "private_outputs": true,
      "provenance": [],
      "include_colab_link": true
    },
    "kernelspec": {
      "name": "python3",
      "display_name": "Python 3"
    },
    "language_info": {
      "name": "python"
    }
  },
  "cells": [
    {
      "cell_type": "markdown",
      "metadata": {
        "id": "view-in-github",
        "colab_type": "text"
      },
      "source": [
        "<a href=\"https://colab.research.google.com/github/HUWenxiao79/DSMA/blob/main/pandasW2.ipynb\" target=\"_parent\"><img src=\"https://colab.research.google.com/assets/colab-badge.svg\" alt=\"Open In Colab\"/></a>"
      ]
    },
    {
      "cell_type": "markdown",
      "metadata": {
        "id": "yteFFSdo1qUc"
      },
      "source": [
        "#Pandas\n",
        "## Series\n"
      ]
    },
    {
      "cell_type": "code",
      "metadata": {
        "id": "fB01o-So1n6h"
      },
      "source": [
        "import pandas as pd\n",
        "\n",
        "my_list = [123,2134,123] # a list of integers\n",
        "\n",
        "#let's make this list into a pandas series\n",
        "my_series = pd.Series(my_list)"
      ],
      "execution_count": null,
      "outputs": []
    },
    {
      "cell_type": "code",
      "source": [
        "my_series2 = my_series"
      ],
      "metadata": {
        "id": "SUJGpEYHXxCn"
      },
      "execution_count": null,
      "outputs": []
    },
    {
      "cell_type": "code",
      "metadata": {
        "id": "XBBKEYnMV06R"
      },
      "source": [
        "print(f'My list: {my_list}\\nMy Series: \\n{my_series}')"
      ],
      "execution_count": null,
      "outputs": []
    },
    {
      "cell_type": "code",
      "metadata": {
        "id": "qslyTjBrWIIg"
      },
      "source": [
        "#accessing individual elements\n",
        "print(my_series[1])"
      ],
      "execution_count": null,
      "outputs": []
    },
    {
      "cell_type": "code",
      "metadata": {
        "id": "elQ3jkP7WUQ7"
      },
      "source": [
        "#renaming the index\n",
        "my_series1 = pd.Series(my_list,index = [\"first\", \"second\", \"third\"])\n",
        "my_series2 = my_series.rename(index = {0:\"first\",1:\"second\",2:\"third\"}) #there is also the \"inplace\" option. Remember what it does?"
      ],
      "execution_count": null,
      "outputs": []
    },
    {
      "cell_type": "code",
      "metadata": {
        "id": "R0ox9zsWXFBo"
      },
      "source": [
        "print(f'1:\\n{my_series1}\\n2: \\n{my_series2}')"
      ],
      "execution_count": null,
      "outputs": []
    },
    {
      "cell_type": "code",
      "metadata": {
        "id": "H1ZAntD6YguC"
      },
      "source": [
        "#Creating a series from a dictionary\n",
        "dicty = {\"first\":\"lalala\",\"second\":123,\"third\":99.4}\n",
        "my_dictseries = pd.Series(dicty) #if you specify the index here, the series will only consist of the specified indexes e.g.: my_dictseries = pd.Series(dicty, index = [\"first\",\"third\"])"
      ],
      "execution_count": null,
      "outputs": []
    },
    {
      "cell_type": "code",
      "metadata": {
        "id": "QDz2OwI-Y0Z7"
      },
      "source": [
        "print(f'Series from dict:\\n{my_dictseries}')"
      ],
      "execution_count": null,
      "outputs": []
    },
    {
      "cell_type": "code",
      "source": [
        "# Creating a DataFrame from a dictionary\n",
        "data = {'Name': ['Camilla', 'Pelle', 'Yu-Hsuan'],\n",
        "        'Age': [25, 22, 24]}\n",
        "df = pd.DataFrame(data)"
      ],
      "metadata": {
        "id": "0R19k0Mna0p1"
      },
      "execution_count": null,
      "outputs": []
    },
    {
      "cell_type": "code",
      "source": [
        "df"
      ],
      "metadata": {
        "id": "LnXSrI9xa4F1"
      },
      "execution_count": null,
      "outputs": []
    },
    {
      "cell_type": "markdown",
      "metadata": {
        "id": "_7w188dRZsbe"
      },
      "source": [
        "##Dataframes"
      ]
    },
    {
      "cell_type": "code",
      "metadata": {
        "id": "-tgPDR5uZt-U"
      },
      "source": [
        "#we can merge series to create a dataframe\n",
        "df1 = pd.concat([my_series1, my_series2,my_dictseries], axis=1)\n",
        "\n",
        "#or we can create one from a dictionary (typically a dictionary of lists)\n",
        "d = {\"ex1\":[89,8,6,1,2,7,6],\"ex2\":[7,5,1,66,8,74,1]}\n",
        "df2 = pd.DataFrame(d)"
      ],
      "execution_count": null,
      "outputs": []
    },
    {
      "cell_type": "code",
      "metadata": {
        "collapsed": true,
        "id": "PYN-A9rkasEV"
      },
      "source": [
        "print(f'Df1:\\n{df1}\\nDf2:\\n{df2}')"
      ],
      "execution_count": null,
      "outputs": []
    },
    {
      "cell_type": "markdown",
      "metadata": {
        "id": "8IU7D-t3hB3q"
      },
      "source": [
        "### loc"
      ]
    },
    {
      "cell_type": "code",
      "metadata": {
        "collapsed": true,
        "id": "1O3crlN0hDf8"
      },
      "source": [
        "#access specific row using loc\n",
        "df2.iloc[3]\n"
      ],
      "execution_count": null,
      "outputs": []
    },
    {
      "cell_type": "markdown",
      "metadata": {
        "id": "pAUVSmgzhFKH"
      },
      "source": [
        "### reading in files"
      ]
    },
    {
      "cell_type": "code",
      "metadata": {
        "id": "nDFXS3RdhFV0"
      },
      "source": [
        "df = pd.read_csv('/content/drive/MyDrive/Colab_Notebooks/data/XED/error.csv',index_col = 0) #replace this with any csv file (there's one under week 3 that contains Trump's insulting tweets)"
      ],
      "execution_count": null,
      "outputs": []
    },
    {
      "cell_type": "code",
      "metadata": {
        "collapsed": true,
        "id": "fc3Peojoi5Wm"
      },
      "source": [
        "df.head(12)"
      ],
      "execution_count": null,
      "outputs": []
    },
    {
      "cell_type": "code",
      "metadata": {
        "id": "arnCdoQIjQY7"
      },
      "source": [
        "df.tail(7)"
      ],
      "execution_count": null,
      "outputs": []
    },
    {
      "cell_type": "code",
      "metadata": {
        "collapsed": true,
        "id": "LnaDsocYjThU"
      },
      "source": [
        "df.info()"
      ],
      "execution_count": null,
      "outputs": []
    },
    {
      "cell_type": "code",
      "metadata": {
        "id": "kvHziVvC814Z"
      },
      "source": [
        "df.shape"
      ],
      "execution_count": null,
      "outputs": []
    }
  ]
}